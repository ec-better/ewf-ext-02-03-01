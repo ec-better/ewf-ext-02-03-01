{
 "cells": [
  {
   "cell_type": "markdown",
   "metadata": {},
   "source": [
    "##  ewf-ext-02-03-01 - Landsat-7 and -8 NDVI time series"
   ]
  },
  {
   "cell_type": "markdown",
   "metadata": {},
   "source": [
    "Landsat-7 and -8 NDVI time series"
   ]
  },
  {
   "cell_type": "markdown",
   "metadata": {},
   "source": [
    "### <a name=\"service\">Service Definition"
   ]
  },
  {
   "cell_type": "code",
   "execution_count": 1,
   "metadata": {
    "collapsed": true
   },
   "outputs": [],
   "source": [
    "service = dict([('title', 'Landsat-7 and -8 NDVI time series'),\n",
    "                ('abstract', 'Landsat-7 and -8 NDVI time series'),\n",
    "                ('id', 'ewf-ext-02-03-01')])"
   ]
  },
  {
   "cell_type": "markdown",
   "metadata": {},
   "source": [
    "### <a name=\"parameter\">Parameter Definition "
   ]
  },
  {
   "cell_type": "markdown",
   "metadata": {},
   "source": [
    "**AOI**\n",
    "\n",
    "AOI"
   ]
  },
  {
   "cell_type": "code",
   "execution_count": 2,
   "metadata": {
    "collapsed": true
   },
   "outputs": [],
   "source": [
    "areaOfInterest = dict([('id', 'areaOfInterest'),\n",
    "                         ('value', 'POLYGON ((-8.908553 38.860527, -8.905850 38.863402, -8.901174 38.860026, -8.904520 38.857585, -8.908553 38.860527))'),\n",
    "                         ('title', 'WKT Polygon for the Area of Interest'),\n",
    "                         ('abstract', 'Set the value of WKT Polygon')])"
   ]
  },
  {
   "cell_type": "markdown",
   "metadata": {},
   "source": [
    "**Name of AOI**\n",
    "\n",
    "Name of AOI"
   ]
  },
  {
   "cell_type": "code",
   "execution_count": 3,
   "metadata": {
    "collapsed": true
   },
   "outputs": [],
   "source": [
    "nameOfArea = dict([('id', 'nameOfArea'),\n",
    "                     ('value', 'P001'),\n",
    "                     ('title', 'Name of Area of Interest'),\n",
    "                     ('abstract', 'Name of the Area of Interest'),\n",
    "                     ('minOccurs', '1')])"
   ]
  },
  {
   "cell_type": "markdown",
   "metadata": {},
   "source": [
    "### <a name=\"runtime\">Runtime parameter definition"
   ]
  },
  {
   "cell_type": "markdown",
   "metadata": {},
   "source": [
    "**Input identifier**\n",
    "\n",
    "This is the Landsat product identifier"
   ]
  },
  {
   "cell_type": "code",
   "execution_count": 4,
   "metadata": {
    "collapsed": true
   },
   "outputs": [],
   "source": [
    "# landsat-8\n",
    "#input_identifier = 'LC08_L1TP_204033_20171106_20171121_01_T1'\n",
    "\n",
    "# landsat-7\n",
    "input_identifier = 'LE72040332017334ASN00'\n",
    "\n"
   ]
  },
  {
   "cell_type": "markdown",
   "metadata": {},
   "source": [
    "**Input reference**\n",
    "\n",
    "This is the Landsat catalogue reference"
   ]
  },
  {
   "cell_type": "code",
   "execution_count": 5,
   "metadata": {
    "collapsed": false
   },
   "outputs": [],
   "source": [
    "# landsat-7\n",
    "input_reference = 'https://catalog.terradue.com/landsat7/search?format=atom&uid=LE72040332017334ASN00'\n",
    "\n",
    "# landsat-8\n",
    "#input_reference = 'https://catalog.terradue.com/landsat8/search?format=atom&uid=LC08_L1TP_204033_20171106_20171121_01_T1'"
   ]
  },
  {
   "cell_type": "markdown",
   "metadata": {},
   "source": [
    "**Data path**\n",
    "\n",
    "This path defines where the data is staged-in. "
   ]
  },
  {
   "cell_type": "code",
   "execution_count": 6,
   "metadata": {
    "collapsed": true
   },
   "outputs": [],
   "source": [
    "data_path = '/workspace/data/Landsat-7/staged-in'\n",
    "\n",
    "data_path = '/workspace/data/Landsat-7/ftp.deimos.com.pt/Landsat_7_ETM+_C1_Level-2_3ys'\n",
    "\n",
    "data_path = '/workspace/stage-in/teste_l8/ls7'"
   ]
  },
  {
   "cell_type": "markdown",
   "metadata": {},
   "source": [
    "###  Aux folders"
   ]
  },
  {
   "cell_type": "code",
   "execution_count": 7,
   "metadata": {},
   "outputs": [],
   "source": [
    "output_folder = ''"
   ]
  },
  {
   "cell_type": "code",
   "execution_count": 8,
   "metadata": {},
   "outputs": [],
   "source": [
    "temp_folder = 'temp'"
   ]
  },
  {
   "cell_type": "markdown",
   "metadata": {},
   "source": [
    "### <a name=\"workflow\">Workflow"
   ]
  },
  {
   "cell_type": "markdown",
   "metadata": {},
   "source": [
    "#### Import Modules"
   ]
  },
  {
   "cell_type": "code",
   "execution_count": 9,
   "metadata": {
    "collapsed": true
   },
   "outputs": [],
   "source": [
    "import os\n",
    "import sys\n",
    "\n",
    "import tarfile\n",
    "\n",
    "from urlparse import urlparse\n",
    "\n",
    "import shapely.wkt\n",
    "import shapely.geometry\n",
    "from shapely.geometry import Point\n",
    "from shapely.geometry import Polygon\n",
    "from shapely.wkt import loads\n",
    "from shapely.geometry import box\n",
    "import cioppy\n",
    "import lxml.etree as etree\n",
    "#import gdal\n",
    "#import osr\n",
    "\n",
    "#import numpy as np\n",
    "from osgeo import gdal, ogr, osr\n",
    "\n",
    "import numpy as np\n",
    "from geopandas import GeoDataFrame\n",
    "import pandas as pd\n",
    "import geopandas as gp\n",
    "\n",
    "import glob\n",
    "\n",
    "import datetime\n",
    "\n",
    "import json\n",
    "\n",
    "\n",
    "\n",
    "ciop = cioppy.Cioppy()"
   ]
  },
  {
   "cell_type": "markdown",
   "metadata": {},
   "source": [
    "####  Auxiliary vars"
   ]
  },
  {
   "cell_type": "code",
   "execution_count": 10,
   "metadata": {},
   "outputs": [],
   "source": [
    "check_results = False\n",
    "export_properties_file = True"
   ]
  },
  {
   "cell_type": "markdown",
   "metadata": {},
   "source": [
    "####  Auxiliary methods"
   ]
  },
  {
   "cell_type": "code",
   "execution_count": 11,
   "metadata": {},
   "outputs": [],
   "source": [
    "# remove contents of a given folder\n",
    "# used to clean a temporary folder\n",
    "def rm_cfolder(folder):\n",
    "    #folder = '/path/to/folder'\n",
    "    for the_file in os.listdir(folder):\n",
    "        file_path = os.path.join(folder, the_file)\n",
    "        try:\n",
    "            if os.path.isfile(file_path):\n",
    "                os.unlink(file_path)\n",
    "            elif os.path.isdir(file_path): shutil.rmtree(file_path)\n",
    "        except Exception as e:\n",
    "            print(e)\n",
    "\n",
    "\n",
    "#\n",
    "# ndvi computation\n",
    "#\n",
    "# Input:\n",
    "# NIR - spectral reflectance measurement acquired in the red (visible) region\n",
    "# red - spectral reflectance measurement acquired in the near-infrared region\n",
    "# \n",
    "# Output:\n",
    "# ndvi -  normalized difference vegetation index\n",
    "#\n",
    "def get_ndvi (nir, red):\n",
    "    \n",
    "    ndvi = -9999\n",
    "    \n",
    "    if nir >= 0 and nir <= 1 and red >= 0 and red <= 1:\n",
    "        \n",
    "        try:\n",
    "            ndvi = ( nir - red ) / ( nir + red )\n",
    "        except ZeroDivisionError:\n",
    "            print(\"Zero Division. ndvi = -9999\")\n",
    "            ndvi = -9999\n",
    "        except:\n",
    "            print(\"Something else went wrong\")\n",
    "            return\n",
    "        \n",
    "    \n",
    "    return ndvi\n",
    "\n",
    "\n",
    "def load_img_to_matrix (img_path):\n",
    "    \n",
    "    dataset = gdal.Open(img_path)\n",
    "    product_array = dataset.GetRasterBand(1).ReadAsArray()\n",
    "    return product_array\n",
    "\n",
    "\n",
    "def get_metadata(filepath):\n",
    "    ds = gdal.Open(filepath)\n",
    "    projection = ds.GetProjection()\n",
    "    geotransform = ds.GetGeoTransform()\n",
    "    no_data_value = ds.GetRasterBand(1).GetNoDataValue()\n",
    "    data_type = ds.GetRasterBand(1).DataType\n",
    "    return projection, geotransform, no_data_value, data_type\n",
    "\n",
    "\n",
    "\n",
    "def write_output_image(filepath, output_matrix, image_format, data_format, mask=None, output_projection=None, output_geotransform=None, no_data_value=None):\n",
    "    \n",
    "    driver = gdal.GetDriverByName(image_format)\n",
    "    out_rows = np.size(output_matrix, 0)\n",
    "    out_columns = np.size(output_matrix, 1)\n",
    "    \n",
    "    \n",
    "    if mask is not None and mask is not 0:\n",
    "        # TODO: check if output folder exists\n",
    "        output = driver.Create(filepath, out_columns, out_rows, 2, data_format)\n",
    "        mask_band = output.GetRasterBand(2)\n",
    "        mask_band.WriteArray(mask)\n",
    "        if no_data_value is not None:\n",
    "            output_matrix[mask > 0] = no_data_value\n",
    "    else:\n",
    "        output = driver.Create(filepath, out_columns, out_rows, 1, data_format)\n",
    "    \n",
    "    if output_projection is not None:\n",
    "        output.SetProjection(output_projection)\n",
    "    if output_geotransform is not None:\n",
    "        output.SetGeoTransform(output_geotransform)\n",
    "    \n",
    "    raster_band = output.GetRasterBand(1)\n",
    "    if no_data_value is not None:\n",
    "        raster_band.SetNoDataValue(no_data_value)\n",
    "    raster_band.WriteArray(output_matrix)\n",
    "    \n",
    "    gdal.Warp(filepath, output, format=\"GTiff\", outputBoundsSRS='EPSG:4326', xRes=output_geotransform[1], yRes=-output_geotransform[5], targetAlignedPixels=True)\n",
    "    \n",
    "\n",
    "\n",
    "\n",
    "def wkt2json(wkt_str, json_file_path):\n",
    "\n",
    "    # Convert to a shapely.geometry.polygon.Polygon object\n",
    "    g1 = shapely.wkt.loads(wkt_str)\n",
    "\n",
    "    g2 = shapely.geometry.mapping(g1)\n",
    "\n",
    "    with open(json_file_path, 'w') as outfile:\n",
    "        json.dump(g2, outfile)\n",
    "    \n",
    "\n",
    "    return json_file_path\n",
    "\n",
    "def get_formatted_date(datetime_str):\n",
    "    date = datetime.datetime.strftime(datetime_str, '%Y-%m-%dT%H:%M:%SZ')\n",
    "    return date\n",
    "\n",
    "\n",
    "def write_properties_file(output_name, first_date, last_date, region_of_interest):\n",
    "    \n",
    "    title = 'Output %s' % output_name\n",
    "    \n",
    "    \n",
    "    first_date = datetime.datetime(year=first_date.year, month=first_date.month, day=first_date.day)\n",
    "    first_date = first_date + datetime.timedelta(days=0, hours=0, minutes=0, seconds=0)\n",
    "    first_date = get_formatted_date(first_date)\n",
    "    \n",
    "    last_date = datetime.datetime(year=last_date.year, month=last_date.month, day=last_date.day)\n",
    "    last_date = last_date + datetime.timedelta(days=0, hours=23, minutes=59, seconds=59)\n",
    "    last_date = get_formatted_date(last_date)\n",
    "    \n",
    "\n",
    "    \n",
    "    \n",
    "    with open(output_name + '.properties', 'wb') as file:\n",
    "        file.write('title=%s\\n' % title)\n",
    "        file.write('date=%s/%s\\n' % (first_date, last_date))\n",
    "        file.write('geometry=%s' % (region_of_interest))"
   ]
  },
  {
   "cell_type": "code",
   "execution_count": 12,
   "metadata": {},
   "outputs": [],
   "source": [
    "#\n",
    "# crop landsat 7 given bands\n",
    "#\n",
    "def get_bands_geotiff_ls7_tar_gz(product_path_folder, band_names, crop=False, bbox=None):\n",
    "    \n",
    "\n",
    "    file_path = product_path_folder\n",
    "    \n",
    "    print(file_path)\n",
    "    \n",
    "    \n",
    "    # open each band image\n",
    "       \n",
    "    for bname in band_names:\n",
    "        \n",
    "        try:\n",
    "            print('GDAL is opening:')\n",
    "        \n",
    "            print('/vsitar/{0}/{1}'.format(file_path, bname))\n",
    "        \n",
    "            ds = gdal.Open('/vsitar/{0}/{1}'.format(file_path, bname))\n",
    "        \n",
    "            #ds3 = gdal.Open('/vsitar/%s/LC08_L1TP_204033_20190723_20190801_01_T1_B3.TIF' % file_path)\n",
    "        \n",
    "        except Exception as e:\n",
    "            print e\n",
    "            raise\n",
    "        \n",
    "    \n",
    "\n",
    "        # crop it\n",
    "    \n",
    "        output = temp_folder + '/clip.tif'\n",
    "    \n",
    "        if crop == True:\n",
    "            print 'Cropping data...'\n",
    "            ulx, uly, lrx, lry = bbox[0], bbox[3], bbox[2], bbox[1]\n",
    "            ds = gdal.Translate(output, ds, projWin = [ulx, uly, lrx, lry], projWinSRS = 'EPSG:4326')\n",
    "            print 'data cropping : DONE'\n",
    "        \n",
    "        else:\n",
    "            ds = gdal.Translate(output, ds)\n",
    "        \n",
    "    \n",
    "    \n",
    "        ds = None\n",
    "        ds = gdal.Open(output)\n",
    "        w = ds.GetRasterBand(1).XSize\n",
    "        h = ds.GetRasterBand(1).YSize\n",
    "        geo_transform = ds.GetGeoTransform()\n",
    "        projection = ds.GetProjection()\n",
    "    \n",
    "    \n",
    "        out_name = bname\n",
    "        \n",
    "        #out_name = '/'.join([temp_folder, out_name])\n",
    "        out_name = os.path.join(temp_folder, out_name)\n",
    "        \n",
    "        print 'creating %s' %out_name\n",
    "        \n",
    "        data = ds.GetRasterBand(1).ReadAsArray(0, 0, w, h).astype(np.float32)\n",
    "        \n",
    "        if 'cloud_qa' in bname or 'pixel_qa' in bname:\n",
    "            pass\n",
    "        else:\n",
    "            bmin = data[data!=-9999].min()\n",
    "            bmax = data[data!=-9999].max()\n",
    "            #Let's map the data into [0.0, 1.0]\n",
    "            if bmin != bmax:\n",
    "                data[data!= -9999] = (data[data!=-9999] - bmin)/(bmax - bmin)\n",
    "            else:\n",
    "                data[data!=-9999] = 1.0\n",
    "            \n",
    "\n",
    "    \n",
    "        drv = gdal.GetDriverByName('GTiff')\n",
    "\n",
    "        ds2 = drv.Create(out_name, w, h, 1, gdal.GDT_Float32)\n",
    "\n",
    "        ds2.SetGeoTransform(geo_transform)\n",
    "        ds2.SetProjection(projection)\n",
    "\n",
    "        ds2.GetRasterBand(1).WriteArray(data, 0, 0)\n",
    "        ds2.FlushCache()\n",
    "\n",
    "    \n",
    "        ds = None\n",
    "        ds2 = None\n",
    "        \n",
    "        \n",
    "#\n",
    "# download (from T2 Catalog) and crop landsat 8 given bands\n",
    "#\n",
    "def get_bands_geotiff_ls8(download_url, band_indices, crop=False, bbox=None):\n",
    "    \n",
    "    # comeca aqui\n",
    "    #url = 'https://store.terradue.com/download/landsat8/files/v1/LC08_L1TP_204033_20190723_20190801_01_T1'\n",
    "\n",
    "    \n",
    "    \n",
    "    # get identifier\n",
    "    l8identifier = download_url.split('/')[-1]\n",
    "    \n",
    "    # get band names\n",
    "    band_names = []\n",
    "    \n",
    "    for i in band_indices:\n",
    "        \n",
    "        if isinstance(i, str):\n",
    "            band_names.append(l8identifier + '_B{0}.TIF'.format(i))\n",
    "        else:\n",
    "            band_names.append(l8identifier + '_B{0}.TIF'.format(i))\n",
    "        \n",
    "    \n",
    "    # download LS-8 Product\n",
    "    retrieved = ciop.copy(download_url, temp_folder)\n",
    "    \n",
    "    \n",
    "    \n",
    "    # get product file path\n",
    "    if temp_folder[-1] == '/':\n",
    "        file_path = glob.glob(temp_folder + '*.tar')\n",
    "    else:\n",
    "        file_path = glob.glob(temp_folder + '/*.tar')\n",
    "\n",
    "    file_path = file_path[0]\n",
    "    \n",
    "    print(file_path)\n",
    "    \n",
    "    \n",
    "    \n",
    "    # open each band image\n",
    "       \n",
    "    for bname in band_names:\n",
    "        \n",
    "        try:\n",
    "            print('GDAL is opening:')\n",
    "        \n",
    "            print('/vsitar/{0}/{1}'.format(file_path, bname))\n",
    "        \n",
    "            ds = gdal.Open('/vsitar/{0}/{1}'.format(file_path, bname))\n",
    "        \n",
    "            #ds3 = gdal.Open('/vsitar/%s/LC08_L1TP_204033_20190723_20190801_01_T1_B3.TIF' % file_path)\n",
    "        \n",
    "        except Exception as e:\n",
    "            print e\n",
    "            raise\n",
    "        \n",
    "    \n",
    "\n",
    "        # crop it\n",
    "    \n",
    "        output = temp_folder + '/clip.tif'\n",
    "    \n",
    "        if crop == True:\n",
    "            print 'Cropping data...'\n",
    "            ulx, uly, lrx, lry = bbox[0], bbox[3], bbox[2], bbox[1]\n",
    "            ds = gdal.Translate(output, ds, projWin = [ulx, uly, lrx, lry], projWinSRS = 'EPSG:4326')\n",
    "            print 'data cropping : DONE'\n",
    "        \n",
    "        else:\n",
    "            ds = gdal.Translate(output, ds)\n",
    "        \n",
    "    \n",
    "    \n",
    "        ds = None\n",
    "        ds = gdal.Open(output)\n",
    "        w = ds.GetRasterBand(1).XSize\n",
    "        h = ds.GetRasterBand(1).YSize\n",
    "        geo_transform = ds.GetGeoTransform()\n",
    "        projection = ds.GetProjection()\n",
    "    \n",
    "    \n",
    "        out_name = bname\n",
    "        \n",
    "        #out_name = '/'.join([temp_folder, out_name])\n",
    "        out_name = os.path.join(temp_folder, out_name)\n",
    "        \n",
    "        print 'creating %s' %out_name\n",
    "        \n",
    "        data = ds.GetRasterBand(1).ReadAsArray(0, 0, w, h).astype(np.float32)\n",
    "        \n",
    "        if '_BQA.TIF' in bname:\n",
    "            pass\n",
    "        else:\n",
    "            bmin = data[data!=-9999].min()\n",
    "            bmax = data[data!=-9999].max()\n",
    "            #Let's map the data into [0.0, 1.0]\n",
    "            if bmin != bmax:\n",
    "                data[data!= -9999] = (data[data!=-9999] - bmin)/(bmax - bmin)\n",
    "            else:\n",
    "                data[data!=-9999] = 1.0\n",
    "            \n",
    "\n",
    "    \n",
    "        drv = gdal.GetDriverByName('GTiff')\n",
    "\n",
    "        ds2 = drv.Create(out_name, w, h, 1, gdal.GDT_Float32)\n",
    "\n",
    "        ds2.SetGeoTransform(geo_transform)\n",
    "        ds2.SetProjection(projection)\n",
    "\n",
    "        ds2.GetRasterBand(1).WriteArray(data, 0, 0)\n",
    "        ds2.FlushCache()\n",
    "\n",
    "    \n",
    "        ds = None\n",
    "        ds2 = None"
   ]
  },
  {
   "cell_type": "markdown",
   "metadata": {},
   "source": [
    "####   Auxiliary folders"
   ]
  },
  {
   "cell_type": "code",
   "execution_count": 13,
   "metadata": {},
   "outputs": [],
   "source": [
    "#Create folders\n",
    "#if not os.path.isdir(data_path):\n",
    "#    os.mkdir(data_path)\n",
    "\n",
    "if len(output_folder) > 0:\n",
    "    if not os.path.isdir(output_folder):\n",
    "        os.mkdir(output_folder)\n",
    "\n",
    "if not os.path.isdir(temp_folder):\n",
    "    os.mkdir(temp_folder)"
   ]
  },
  {
   "cell_type": "markdown",
   "metadata": {},
   "source": [
    "#### Define the AOI"
   ]
  },
  {
   "cell_type": "code",
   "execution_count": 14,
   "metadata": {},
   "outputs": [
    {
     "data": {
      "text/plain": [
       "'POLYGON ((-8.908552999999999 38.860527, -8.905849999999999 38.863402, -8.901173999999999 38.860026, -8.90452 38.857585, -8.908552999999999 38.860527))'"
      ]
     },
     "execution_count": 14,
     "metadata": {},
     "output_type": "execute_result"
    }
   ],
   "source": [
    "aoi_wkt = loads(areaOfInterest['value'])\n",
    "aoi_wkt.wkt"
   ]
  },
  {
   "cell_type": "code",
   "execution_count": 15,
   "metadata": {},
   "outputs": [
    {
     "data": {
      "text/plain": [
       "[-8.908553, 38.857585, -8.901174, 38.863402]"
      ]
     },
     "execution_count": 15,
     "metadata": {},
     "output_type": "execute_result"
    }
   ],
   "source": [
    "bbox = list(aoi_wkt.bounds)\n",
    "bbox"
   ]
  },
  {
   "cell_type": "markdown",
   "metadata": {},
   "source": [
    "#### check if it is landsat 8 "
   ]
  },
  {
   "cell_type": "code",
   "execution_count": 16,
   "metadata": {},
   "outputs": [
    {
     "name": "stdout",
     "output_type": "stream",
     "text": [
      "Landsat 7\n"
     ]
    }
   ],
   "source": [
    "# 'LE07' - Landsat 7\n",
    "# 'LC08' - Landsat 8\n",
    "lscode = 'LE07'\n",
    "\n",
    "if 'LC08' in input_identifier:\n",
    "    lscode = 'LC08'\n",
    "    print('Landsat 8')\n",
    "else:\n",
    "    print('Landsat 7')"
   ]
  },
  {
   "cell_type": "markdown",
   "metadata": {},
   "source": [
    "#### opens tar file"
   ]
  },
  {
   "cell_type": "code",
   "execution_count": 17,
   "metadata": {},
   "outputs": [
    {
     "name": "stdout",
     "output_type": "stream",
     "text": [
      "['LE07_L1TP_204033_20171130_20171226_01_T1_ANG.txt', 'LE07_L1TP_204033_20171130_20171226_01_T1_MTL.txt', 'LE07_L1TP_204033_20171130_20171226_01_T1_pixel_qa.tif', 'LE07_L1TP_204033_20171130_20171226_01_T1_radsat_qa.tif', 'LE07_L1TP_204033_20171130_20171226_01_T1_sr_band1.tif', 'LE07_L1TP_204033_20171130_20171226_01_T1_sr_band2.tif', 'LE07_L1TP_204033_20171130_20171226_01_T1_sr_band3.tif', 'LE07_L1TP_204033_20171130_20171226_01_T1_sr_band4.tif', 'LE07_L1TP_204033_20171130_20171226_01_T1_sr_band5.tif', 'LE07_L1TP_204033_20171130_20171226_01_T1_sr_band7.tif', 'LE07_L1TP_204033_20171130_20171226_01_T1_sr_atmos_opacity.tif', 'LE07_L1TP_204033_20171130_20171226_01_T1_sr_cloud_qa.tif', 'LE07_L1TP_204033_20171130_20171226_01_T1.xml']\n"
     ]
    }
   ],
   "source": [
    "targz_file = glob.glob(data_path + '/*.tar')\n",
    "ls_file_path = targz_file[0]\n",
    "\n",
    "t = tarfile.open(ls_file_path, 'r')\n",
    "print t.getnames()\n",
    "\n",
    "#ls_file_path\n"
   ]
  },
  {
   "cell_type": "code",
   "execution_count": 18,
   "metadata": {},
   "outputs": [
    {
     "data": {
      "text/plain": [
       "'/workspace/stage-in/teste_l8/ls7'"
      ]
     },
     "execution_count": 18,
     "metadata": {},
     "output_type": "execute_result"
    }
   ],
   "source": [
    "data_path"
   ]
  },
  {
   "cell_type": "code",
   "execution_count": 19,
   "metadata": {},
   "outputs": [
    {
     "name": "stdout",
     "output_type": "stream",
     "text": [
      "['LE07_L1TP_204033_20171130_20171226_01_T1_sr_band3.tif', 'LE07_L1TP_204033_20171130_20171226_01_T1_sr_band4.tif', 'LE07_L1TP_204033_20171130_20171226_01_T1_sr_cloud_qa.tif']\n",
      "temp/LE07_L1TP_204033_20171130_20171226_01_T1_sr_band4.tif\n",
      "temp/LE07_L1TP_204033_20171130_20171226_01_T1_sr_band3.tif\n",
      "temp/LE07_L1TP_204033_20171130_20171226_01_T1_sr_cloud_qa.tif\n",
      "/workspace/stage-in/teste_l8/ls7/LE072040332017113001T1-SC20190921113409.tar\n",
      "GDAL is opening:\n",
      "/vsitar//workspace/stage-in/teste_l8/ls7/LE072040332017113001T1-SC20190921113409.tar/LE07_L1TP_204033_20171130_20171226_01_T1_sr_band3.tif\n",
      "Cropping data...\n",
      "data cropping : DONE\n",
      "creating temp/LE07_L1TP_204033_20171130_20171226_01_T1_sr_band3.tif\n",
      "GDAL is opening:\n",
      "/vsitar//workspace/stage-in/teste_l8/ls7/LE072040332017113001T1-SC20190921113409.tar/LE07_L1TP_204033_20171130_20171226_01_T1_sr_band4.tif\n",
      "Cropping data...\n",
      "data cropping : DONE\n",
      "creating temp/LE07_L1TP_204033_20171130_20171226_01_T1_sr_band4.tif\n",
      "GDAL is opening:\n",
      "/vsitar//workspace/stage-in/teste_l8/ls7/LE072040332017113001T1-SC20190921113409.tar/LE07_L1TP_204033_20171130_20171226_01_T1_sr_cloud_qa.tif\n",
      "Cropping data...\n",
      "data cropping : DONE\n",
      "creating temp/LE07_L1TP_204033_20171130_20171226_01_T1_sr_cloud_qa.tif\n"
     ]
    }
   ],
   "source": [
    "band_names = []\n",
    "\n",
    "band_1_name = ''\n",
    "band_2_name = ''\n",
    "band_3_name = ''\n",
    "\n",
    "for n in t.getnames():\n",
    "    if 'band4' in n:\n",
    "        band_names.append(n)\n",
    "        band_1_name = n\n",
    "        \n",
    "    if 'band3' in n:\n",
    "        band_names.append(n)\n",
    "        band_2_name = n\n",
    "        \n",
    "    #if 'pixel_qa' in n:\n",
    "    #    band_names.append(n)\n",
    "        \n",
    "    if 'cloud_qa' in n:\n",
    "        band_names.append(n)\n",
    "        band_3_name = n\n",
    "        \n",
    "band_1_name = os.path.join(temp_folder, band_1_name)\n",
    "band_2_name = os.path.join(temp_folder, band_2_name)\n",
    "band_3_name = os.path.join(temp_folder, band_3_name) # QA band\n",
    "        \n",
    "print(band_names)\n",
    "\n",
    "print(band_1_name)\n",
    "print(band_2_name)\n",
    "print(band_3_name)\n",
    "\n",
    "get_bands_geotiff_ls7_tar_gz(ls_file_path, band_names, crop=True, bbox=bbox)"
   ]
  },
  {
   "cell_type": "code",
   "execution_count": 20,
   "metadata": {},
   "outputs": [
    {
     "name": "stdout",
     "output_type": "stream",
     "text": [
      "LE07_L1TP_204033_20171130_20171226_01_T1_sr_P001_NDVI\n",
      "GENERATING MASK from: temp/LE07_L1TP_204033_20171130_20171226_01_T1_sr_cloud_qa.tif\n"
     ]
    },
    {
     "name": "stderr",
     "output_type": "stream",
     "text": [
      "reporter:status:2019-11-02T12:37:25.273141 [INFO   ] [user process] Computing NDVI\n",
      "2019-11-02T12:37:25.273141 [INFO   ] [user process] Computing NDVI\n"
     ]
    },
    {
     "data": {
      "text/plain": [
       "True"
      ]
     },
     "execution_count": 20,
     "metadata": {},
     "output_type": "execute_result"
    }
   ],
   "source": [
    "#\n",
    "# Computes ndvi image\n",
    "# and saves it in geotif\n",
    "#\n",
    "def get_cloud_mask(band_qa):\n",
    "    \n",
    "    print('GENERATING MASK from: {0}'.format(band_qa))\n",
    "    \n",
    "    mat_band_qa = load_img_to_matrix(band_qa)\n",
    "    \n",
    "    cloud_mask = np.full_like(mat_band_qa, 0)\n",
    "    \n",
    "    # 1st row - clouds\n",
    "    # 2nd row - Cloud shadow - high\n",
    "    # codes from here: https://www.usgs.gov/media/images/landsat-8-quality-assessment-band-attributes-and-possible-values\n",
    "    # and from here: LSDS-1370_L4-7_SurfaceReflectance-LEDAPS_ProductGuide-v2.pdf\n",
    "    if 'LC08_' in band_qa:\n",
    "        pixel_values_to_mask = [2800, 2804, 2808, 2812, 6896, 6900, 6904, 6908,\n",
    "                                2976, 2980, 2984, 2988, 3008, 3012, 3016, 3020, 7072, 7076, 7080, 7084, 7104, 7108, 7112, 7116]\n",
    "    else:\n",
    "        #pixel_values_to_mask = [96, 112, 160, 176, 224,\n",
    "        #                        72, 136]\n",
    "        \n",
    "        pixel_values_to_mask = [2, 34,\n",
    "                                4, 12, 20, 36, 52]\n",
    "    \n",
    "    for pv in pixel_values_to_mask:\n",
    "        cloud_mask[mat_band_qa == pv] = -9999\n",
    "    \n",
    "    return cloud_mask\n",
    "\n",
    "\n",
    "\n",
    "#\n",
    "# Computes ndvi image\n",
    "# and saves it in geotif\n",
    "#\n",
    "def normalized_difference(band_1, band_2, output_name, mask_clouds = False, band_3 = None):\n",
    "\n",
    "    #metadata_name = '{0}.xml'.format(output_name)\n",
    "    \n",
    "    #otb_app = otbApplication.Registry.CreateApplication('BandMath')\n",
    "    \n",
    "    #otb_app.SetParameterStringList('il', [band_1, band_2])\n",
    "\n",
    "    #otb_app.SetParameterString('out', '{0}.TIF'.format(output_name))\n",
    "    \n",
    "    #otb_app.SetParameterString('exp', 'im1b1 >= 0 && im1b1 <= 1 && im2b1 >= 0 && im2b1 <= 1 ? ( im1b1 - im2b1 ) / ( im1b1 + im2b1 ) : -9999 ')\n",
    "\n",
    "    #otb_app.ExecuteAndWriteOutput()\n",
    "    \n",
    "    \n",
    "    mat_band_1 = load_img_to_matrix(band_1)\n",
    "    mat_band_2 = load_img_to_matrix(band_2)\n",
    "    \n",
    "    \n",
    "    ndvi_calculator = np.vectorize(get_ndvi)\n",
    "    \n",
    "    mat_ndvi = ndvi_calculator(mat_band_1, mat_band_2)\n",
    "    \n",
    "    if mask_clouds: # mask clouds and cloud shadows\n",
    "        \n",
    "        cloud_mask = get_cloud_mask(band_3)\n",
    "        \n",
    "        mat_ndvi[cloud_mask == -9999] = -9999\n",
    "        \n",
    "    \n",
    "    projection, geotransform, no_data_value, data_type = get_metadata(band_1)\n",
    "    \n",
    "    no_data_value = -9999\n",
    "\n",
    "    write_output_image(output_name + '.tif', mat_ndvi, 'GTiff', data_type, None, projection, geotransform, no_data_value)\n",
    "    \n",
    "    \n",
    "    #Set the actual wkt for NDVI \n",
    "    #metadata['wkt'] = get_wkt('{0}.TIF'.format(output_name))\n",
    "    \n",
    "    #metadata['identifier'] = output_name\n",
    "    \n",
    "    return True\n",
    "\n",
    "\n",
    "\n",
    "output_name = '{0}{1}_{2}'.format(band_1_name.split('/')[-1].split('.')[0].split('band')[0], nameOfArea['value'],'NDVI')\n",
    "\n",
    "print(output_name)\n",
    "\n",
    "ciop.log(\"INFO\", \"Computing NDVI\")\n",
    "\n",
    "normalized_difference(band_1_name,\n",
    "                      band_2_name,\n",
    "                      output_name,\n",
    "                      mask_clouds = True,\n",
    "                      band_3 = band_3_name)"
   ]
  },
  {
   "cell_type": "code",
   "execution_count": 21,
   "metadata": {},
   "outputs": [],
   "source": [
    "if check_results:\n",
    "    \n",
    "    #lscode = 'LC07'\n",
    "    \n",
    "    import matplotlib\n",
    "    import matplotlib.pyplot as plt\n",
    "    from PIL import Image\n",
    "    %matplotlib inline\n",
    "    \n",
    "    ds = gdal.Open(band_1_name)\n",
    "    band4 = ds.GetRasterBand(1).ReadAsArray()\n",
    "    ds=None\n",
    "\n",
    "    ds = gdal.Open(band_2_name)\n",
    "    band3 = ds.GetRasterBand(1).ReadAsArray()\n",
    "    ds=None\n",
    "\n",
    "\n",
    "    for b in [band3, band4]:\n",
    "\n",
    "        bmin = b[b!=-9999].min()\n",
    "        bmax =  b[b!=-9999].max()\n",
    "        \n",
    "        if bmin != bmax:    \n",
    "            b[b!=-9999] = (b[b!=-9999] - bmin)/(bmax - bmin) * 255\n",
    "  \n",
    "        b[b==-9999]=np.nan\n",
    "\n",
    "    fig = plt.figure(figsize=(20,20))\n",
    "\n",
    "    a = fig.add_subplot(1,2,1)\n",
    "    imgplot = plt.imshow(band3.astype(np.uint8),cmap='jet')\n",
    "    a.set_title('LS7 Band 3')\n",
    "    if lscode == 'LC08':\n",
    "        a.set_title('LS8 Band 4')\n",
    "    \n",
    "\n",
    "    a = fig.add_subplot(1,2,2)\n",
    "    imgplot = plt.imshow(band4.astype(np.uint8),cmap='jet')\n",
    "    a.set_title('LS7 Band 4')\n",
    "    if lscode == 'LC08':\n",
    "        a.set_title('LS8 Band 5')\n",
    "        \n",
    "\n",
    "    plt.tight_layout()\n",
    "    fig = plt.gcf()\n",
    "    plt.show()\n",
    "\n",
    "    fig.clf()\n",
    "    plt.close()"
   ]
  },
  {
   "cell_type": "markdown",
   "metadata": {},
   "source": [
    "#### clip according to AOI"
   ]
  },
  {
   "cell_type": "code",
   "execution_count": 22,
   "metadata": {},
   "outputs": [],
   "source": [
    "input_raster = '{0}.tif'.format(output_name)\n",
    "output_raster = '{0}.tif'.format(output_name)\n",
    "parcel_geojson = wkt2json(aoi_wkt.wkt, os.path.join(temp_folder, 'aoi.json'))\n",
    "\n",
    "ds = gdal.Warp(output_raster,\n",
    "              input_raster,\n",
    "              format = 'GTiff',\n",
    "              cutlineDSName = parcel_geojson,\n",
    "              dstNodata = -9999.0)\n",
    "ds = None"
   ]
  },
  {
   "cell_type": "markdown",
   "metadata": {},
   "source": [
    "#### Check results"
   ]
  },
  {
   "cell_type": "code",
   "execution_count": 23,
   "metadata": {
    "collapsed": true
   },
   "outputs": [],
   "source": [
    "if check_results:\n",
    "    import matplotlib\n",
    "    import matplotlib.pyplot as plt\n",
    "    from PIL import Image\n",
    "    %matplotlib inline\n"
   ]
  },
  {
   "cell_type": "code",
   "execution_count": 24,
   "metadata": {},
   "outputs": [],
   "source": [
    "if check_results:\n",
    "    \n",
    "    ds = gdal.Open(band_1_name)\n",
    "    band4 = ds.GetRasterBand(1).ReadAsArray()\n",
    "    ds=None\n",
    "\n",
    "    ds = gdal.Open(band_2_name)\n",
    "    band3 = ds.GetRasterBand(1).ReadAsArray()\n",
    "    ds=None\n",
    "\n",
    "    ds = gdal.Open('{0}.tif'.format(output_name))\n",
    "    ndvi = ds.GetRasterBand(1).ReadAsArray()\n",
    "    ds=None\n",
    "\n",
    "    for b in [band3, band4, ndvi]:\n",
    "\n",
    "        bmin = b[b!=-9999].min()\n",
    "        bmax =  b[b!=-9999].max()\n",
    "        \n",
    "        if bmin != bmax:    \n",
    "            b[b!=-9999] = (b[b!=-9999] - bmin)/(bmax - bmin) * 255\n",
    "  \n",
    "        b[b==-9999]=np.nan\n",
    "\n",
    "    fig = plt.figure(figsize=(20,20))\n",
    "\n",
    "    a = fig.add_subplot(1,3,1)\n",
    "    imgplot = plt.imshow(band3.astype(np.uint8),cmap='gray')\n",
    "    a.set_title('LS7 Band 3')\n",
    "    if lscode == 'LC08':\n",
    "        a.set_title('LS8 Band 4')\n",
    "    \n",
    "\n",
    "    a = fig.add_subplot(1,3,2)\n",
    "    imgplot = plt.imshow(band4.astype(np.uint8),cmap='gray')\n",
    "    a.set_title('LS7 Band 4')\n",
    "    if lscode == 'LC08':\n",
    "        a.set_title('LS8 Band 5')\n",
    "        \n",
    "\n",
    "    a = fig.add_subplot(1,3,3)\n",
    "    imgplot = plt.imshow(ndvi.astype(np.uint8),cmap='jet')\n",
    "    a.set_title('NDVI')\n",
    "\n",
    "    plt.tight_layout()\n",
    "    fig = plt.gcf()\n",
    "    plt.show()\n",
    "\n",
    "    fig.clf()\n",
    "    plt.close()\n"
   ]
  },
  {
   "cell_type": "markdown",
   "metadata": {},
   "source": [
    "#### Export properties file"
   ]
  },
  {
   "cell_type": "code",
   "execution_count": 25,
   "metadata": {},
   "outputs": [],
   "source": [
    "if export_properties_file:\n",
    "    \n",
    "    write_properties_file('{0}.tif'.format(output_name), datetime.datetime.strptime(output_raster[17:17+8], '%Y%m%d'), datetime.datetime.strptime(output_raster[17:17+8], '%Y%m%d'), areaOfInterest['value'])"
   ]
  },
  {
   "cell_type": "markdown",
   "metadata": {},
   "source": [
    "#### Remove temporay files and folders"
   ]
  },
  {
   "cell_type": "code",
   "execution_count": 26,
   "metadata": {},
   "outputs": [
    {
     "name": "stderr",
     "output_type": "stream",
     "text": [
      "reporter:status:2019-11-02T12:37:37.615786 [INFO   ] [user process] Removing aux data\n",
      "2019-11-02T12:37:37.615786 [INFO   ] [user process] Removing aux data\n"
     ]
    }
   ],
   "source": [
    "ciop.log(\"INFO\", \"Removing aux data\")\n",
    "\n",
    "rm_cfolder(temp_folder)\n",
    "\n",
    "os.rmdir(temp_folder)"
   ]
  }
 ],
 "metadata": {
  "kernelspec": {
   "display_name": "Python 2",
   "language": "python",
   "name": "python2"
  },
  "language_info": {
   "codemirror_mode": {
    "name": "ipython",
    "version": 2
   },
   "file_extension": ".py",
   "mimetype": "text/x-python",
   "name": "python",
   "nbconvert_exporter": "python",
   "pygments_lexer": "ipython2",
   "version": "2.7.13"
  }
 },
 "nbformat": 4,
 "nbformat_minor": 2
}
