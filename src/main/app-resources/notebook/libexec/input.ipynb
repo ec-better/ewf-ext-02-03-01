{
 "cells": [
  {
   "cell_type": "markdown",
   "metadata": {},
   "source": [
    "##  ewf-ext-02-03-01 - Landsat-7 and -8 NDVI time series"
   ]
  },
  {
   "cell_type": "markdown",
   "metadata": {},
   "source": [
    "Landsat-7 and -8 NDVI time series"
   ]
  },
  {
   "cell_type": "markdown",
   "metadata": {},
   "source": [
    "### <a name=\"service\">Service Definition"
   ]
  },
  {
   "cell_type": "code",
   "execution_count": 246,
   "metadata": {
    "collapsed": true
   },
   "outputs": [],
   "source": [
    "service = dict([('title', 'Landsat-7 and -8 NDVI time series'),\n",
    "                ('abstract', 'Landsat-7 and -8 NDVI time series'),\n",
    "                ('id', 'ewf-ext-02-03-01')])"
   ]
  },
  {
   "cell_type": "markdown",
   "metadata": {},
   "source": [
    "### <a name=\"parameter\">Parameter Definition "
   ]
  },
  {
   "cell_type": "code",
   "execution_count": 247,
   "metadata": {},
   "outputs": [],
   "source": [
    "regionOfInterest = dict([('id', 'regionOfInterest'),\n",
    "                         ('value', 'POLYGON ((-8.864205 38.88616500000001, -8.864205 38.986165, -8.964205000000002 38.986165, -8.964205000000002 38.88616500000001, -8.864205 38.88616500000001))'),\n",
    "                         ('title', 'WKT Polygon for the Region of Interest'),\n",
    "                         ('abstract', 'Set the value of WKT Polygon')])"
   ]
  },
  {
   "cell_type": "code",
   "execution_count": 248,
   "metadata": {},
   "outputs": [],
   "source": [
    "nameOfRegion = dict([('id', 'nameOfRegion'),\n",
    "                     ('value', 'Leziria'),\n",
    "                     ('title', 'Name of Region'),\n",
    "                     ('abstract', 'Name of the region of interest'),\n",
    "                     ('minOccurs', '1')])"
   ]
  },
  {
   "cell_type": "markdown",
   "metadata": {},
   "source": [
    "### <a name=\"runtime\">Runtime parameter definition"
   ]
  },
  {
   "cell_type": "markdown",
   "metadata": {},
   "source": [
    "**Input identifier**\n",
    "\n",
    "This is the Sentinel-2 product identifier"
   ]
  },
  {
   "cell_type": "code",
   "execution_count": 249,
   "metadata": {
    "collapsed": true
   },
   "outputs": [],
   "source": [
    "#input_identifier = 'LE07_L1TP_204033_20171130_20171226_01_T1'"
   ]
  },
  {
   "cell_type": "markdown",
   "metadata": {},
   "source": [
    "**Input reference**\n",
    "\n",
    "This is the Landsat-7 (espa-sr) catalogue reference"
   ]
  },
  {
   "cell_type": "code",
   "execution_count": 250,
   "metadata": {
    "collapsed": false
   },
   "outputs": [],
   "source": [
    "# Landsat 7\n",
    "\n",
    "#input_reference = 'https://catalog.terradue.com/espa-sr/search?format=atom&uid=LE07_L1TP_204033_20171130_20171226_01_T1'\n",
    "#input_reference = 'https://catalog.terradue.com/espa-sr/search?format=atom&uid=LE07_L1TP_204033_20171114_20171210_01_T1'\n",
    "#input_reference = 'https://catalog.terradue.com/espa-sr/search?format=atom&uid=LE07_L1TP_204033_20170927_20171023_01_T1'\n",
    "#input_reference = 'https://catalog.terradue.com/espa-sr/search?format=atom&uid=LE07_L1TP_204033_20170911_20171007_01_T1'\n",
    "#input_reference = 'https://catalog.terradue.com/espa-sr/search?format=atom&uid=LE07_L1TP_204033_20170810_20170905_01_T1'\n",
    "#input_reference = 'https://catalog.terradue.com/espa-sr/search?format=atom&uid=LE07_L1TP_204033_20170725_20170820_01_T1'\n",
    "\n",
    "\n",
    "# Landsat 8\n",
    "\n",
    "input_reference = 'https://catalog.terradue.com/landsat8/search?format=atom&uid=LC08_L1TP_204033_20190723_20190801_01_T1'\n",
    "input_reference = 'https://catalog.terradue.com/landsat8/search?format=atom&uid=LC08_L1TP_204033_20190707_20190719_01_T1'\n",
    "input_reference = 'https://catalog.terradue.com/landsat8/search?format=atom&uid=LC08_L1TP_204033_20190621_20190704_01_T1'\n",
    "input_reference = 'https://catalog.terradue.com/landsat8/search?format=atom&uid=LC08_L1TP_204033_20190605_20190618_01_T1'\n",
    "input_reference = 'https://catalog.terradue.com/landsat8/search?format=atom&uid=LC08_L1TP_204033_20190520_20190604_01_T1'\n",
    "input_reference = 'https://catalog.terradue.com/landsat8/search?format=atom&uid=LC08_L1TP_204033_20190504_20190520_01_T1'\n",
    "#input_reference = 'https://catalog.terradue.com/landsat8/search?format=atom&uid=LC08_L1TP_204033_20190418_20190423_01_T1'\n",
    "#input_reference = 'https://catalog.terradue.com/landsat8/search?format=atom&uid=LC08_L1TP_204033_20190402_20190421_01_T1'\n",
    "#input_reference = 'https://catalog.terradue.com/landsat8/search?format=atom&uid=LC08_L1TP_204033_20190317_20190325_01_T1'\n",
    "#input_reference = 'https://catalog.terradue.com/landsat8/search?format=atom&uid=LC08_L1TP_204033_20190301_20190309_01_T1'\n",
    "#input_reference = 'https://catalog.terradue.com/landsat8/search?format=atom&uid=LC08_L1TP_204033_20190213_20190222_01_T1'\n",
    "#input_reference = 'https://catalog.terradue.com/landsat8/search?format=atom&uid=LC08_L1TP_204033_20190128_20190206_01_T1'\n",
    "#input_reference = 'https://catalog.terradue.com/landsat8/search?format=atom&uid=LC08_L1TP_204033_20190112_20190131_01_T1'\n",
    "#input_reference = 'https://catalog.terradue.com/landsat8/search?format=atom&uid=LC08_L1GT_204033_20181227_20190129_01_T2'\n",
    "#input_reference = 'https://catalog.terradue.com/landsat8/search?format=atom&uid=LC08_L1GT_204033_20181211_20181226_01_T2'\n",
    "#input_reference = 'https://catalog.terradue.com/landsat8/search?format=atom&uid=LC08_L1GT_204033_20181125_20181210_01_T2'\n",
    "#input_reference = 'https://catalog.terradue.com/landsat8/search?format=atom&uid=LC08_L1TP_204033_20181109_20181127_01_T1'\n",
    "#input_reference = 'https://catalog.terradue.com/landsat8/search?format=atom&uid=LC08_L1TP_204033_20181024_20181031_01_T1'\n",
    "#input_reference = 'https://catalog.terradue.com/landsat8/search?format=atom&uid=LC08_L1TP_204033_20181008_20181029_01_T1'\n",
    "#input_reference = 'https://catalog.terradue.com/landsat8/search?format=atom&uid=LC08_L1TP_204033_20180922_20180928_01_T1'\n"
   ]
  },
  {
   "cell_type": "markdown",
   "metadata": {},
   "source": [
    "**Data path**\n",
    "\n",
    "This path defines where the data is staged-in. "
   ]
  },
  {
   "cell_type": "code",
   "execution_count": 251,
   "metadata": {
    "collapsed": true
   },
   "outputs": [],
   "source": [
    "#data_path = '/workspace/data'"
   ]
  },
  {
   "cell_type": "markdown",
   "metadata": {},
   "source": [
    "###  Aux folders"
   ]
  },
  {
   "cell_type": "code",
   "execution_count": 252,
   "metadata": {},
   "outputs": [],
   "source": [
    "output_folder = ''"
   ]
  },
  {
   "cell_type": "code",
   "execution_count": 253,
   "metadata": {},
   "outputs": [],
   "source": [
    "temp_folder = 'temp'"
   ]
  },
  {
   "cell_type": "markdown",
   "metadata": {},
   "source": [
    "### <a name=\"workflow\">Workflow"
   ]
  },
  {
   "cell_type": "markdown",
   "metadata": {},
   "source": [
    "#### Import Modules"
   ]
  },
  {
   "cell_type": "code",
   "execution_count": 254,
   "metadata": {
    "collapsed": true
   },
   "outputs": [],
   "source": [
    "import os\n",
    "import sys\n",
    "\n",
    "from urlparse import urlparse\n",
    "\n",
    "from shapely.geometry import Point\n",
    "from shapely.geometry import Polygon\n",
    "from shapely.wkt import loads\n",
    "from shapely.geometry import box\n",
    "import cioppy\n",
    "import lxml.etree as etree\n",
    "#import gdal\n",
    "#import osr\n",
    "\n",
    "#import numpy as np\n",
    "from osgeo import gdal, ogr, osr\n",
    "\n",
    "import numpy as np\n",
    "from geopandas import GeoDataFrame\n",
    "import pandas as pd\n",
    "import geopandas as gp\n",
    "\n",
    "import glob\n",
    "\n",
    "\n",
    "ciop = cioppy.Cioppy()"
   ]
  },
  {
   "cell_type": "markdown",
   "metadata": {},
   "source": [
    "###  Auxiliary vars"
   ]
  },
  {
   "cell_type": "code",
   "execution_count": 255,
   "metadata": {},
   "outputs": [],
   "source": [
    "check_results = True"
   ]
  },
  {
   "cell_type": "markdown",
   "metadata": {},
   "source": [
    "###  Auxiliary methods"
   ]
  },
  {
   "cell_type": "code",
   "execution_count": 256,
   "metadata": {},
   "outputs": [],
   "source": [
    " # remove contents of a given folder\n",
    "# used to clean a temporary folder\n",
    "def rm_cfolder(folder):\n",
    "    #folder = '/path/to/folder'\n",
    "    for the_file in os.listdir(folder):\n",
    "        file_path = os.path.join(folder, the_file)\n",
    "        try:\n",
    "            if os.path.isfile(file_path):\n",
    "                os.unlink(file_path)\n",
    "            elif os.path.isdir(file_path): shutil.rmtree(file_path)\n",
    "        except Exception as e:\n",
    "            print(e)"
   ]
  },
  {
   "cell_type": "markdown",
   "metadata": {},
   "source": [
    "###   Auxiliary folders"
   ]
  },
  {
   "cell_type": "code",
   "execution_count": 257,
   "metadata": {},
   "outputs": [],
   "source": [
    "#Create folders\n",
    "#if not os.path.isdir(data_path):\n",
    "#    os.mkdir(data_path)\n",
    "\n",
    "if len(output_folder) > 0:\n",
    "    if not os.path.isdir(output_folder):\n",
    "        os.mkdir(output_folder)\n",
    "\n",
    "if not os.path.isdir(temp_folder):\n",
    "    os.mkdir(temp_folder)\n",
    "    \n",
    "    \n",
    "    \n",
    "def eop_metadata(metadata):\n",
    "\n",
    "    opt = 'http://www.opengis.net/opt/2.1'\n",
    "    om  = 'http://www.opengis.net/om/2.0'\n",
    "    gml = 'http://www.opengis.net/gml/3.2'\n",
    "    eop = 'http://www.opengis.net/eop/2.1'\n",
    "    sar = 'http://www.opengis.net/sar/2.1'\n",
    "    \n",
    "    root = etree.Element('{%s}EarthObservation' % opt)\n",
    "\n",
    "    phenomenon_time = etree.SubElement(root, '{%s}phenomenonTime' % om)\n",
    "\n",
    "    time_period = etree.SubElement(phenomenon_time, '{%s}TimePeriod' % gml)\n",
    "\n",
    "    begin_position = etree.SubElement(time_period, '{%s}beginPosition'  % gml)\n",
    "\n",
    "    end_position = etree.SubElement(time_period, '{%s}endPosition'  % gml)\n",
    "\n",
    "    procedure = etree.SubElement(root, '{%s}procedure' % om)\n",
    "\n",
    "    earth_observation_equipment = etree.SubElement(procedure, '{%s}EarthObservationEquipment' % eop)\n",
    "\n",
    "    acquisition_parameters = etree.SubElement(earth_observation_equipment, '{%s}acquisitionParameters' % eop)\n",
    "\n",
    "    acquisition = etree.SubElement(acquisition_parameters, '{%s}Acquisition' % sar)\n",
    "\n",
    "    orbit_number = etree.SubElement(acquisition, '{%s}orbitNumber' % eop)\n",
    "\n",
    "    wrs_longitude_grid = etree.SubElement(acquisition, '{%s}wrsLongitudeGrid' % eop)\n",
    "\n",
    "    wrs_latitude_grid = etree.SubElement(acquisition, '{%s}wrsLatitudeGrid' % eop)\n",
    "    \n",
    "    \n",
    "    feature_of_interest = etree.SubElement(root, '{%s}featureOfInterest' % om)\n",
    "    footprint = etree.SubElement(feature_of_interest, '{%s}Footprint' % eop)\n",
    "    multi_extentOf = etree.SubElement(footprint, '{%s}multiExtentOf' % eop)\n",
    "    multi_surface = etree.SubElement(multi_extentOf, '{%s}MultiSurface' % gml)\n",
    "    surface_members = etree.SubElement(multi_surface, '{%s}surfaceMembers' % gml)\n",
    "    polygon = etree.SubElement(surface_members, '{%s}Polygon' % gml)    \n",
    "    exterior = etree.SubElement(polygon, '{%s}exterior' % gml)  \n",
    "    linear_ring = etree.SubElement(exterior, '{%s}LinearRing' % gml) \n",
    "    poslist = etree.SubElement(linear_ring, '{%s}posList' % gml) \n",
    "\n",
    "\n",
    "    result = etree.SubElement(root, '{%s}result' % om)\n",
    "    earth_observation_result = etree.SubElement(result, '{%s}EarthObservationResult' % opt)\n",
    "    cloud_cover_percentage = etree.SubElement(earth_observation_result, '{%s}cloudCoverPercentage' % opt)\n",
    "    \n",
    "    metadata_property = etree.SubElement(root, '{%s}metaDataProperty' % eop)\n",
    "    earth_observation_metadata = etree.SubElement(metadata_property, '{%s}EarthObservationMetaData' % eop)\n",
    "    identifier = etree.SubElement(earth_observation_metadata, '{%s}identifier' % eop)\n",
    "    \n",
    "    begin_position.text = metadata['startdate']\n",
    "    end_position.text = metadata['enddate']\n",
    "    orbit_number.text = metadata['orbitNumber']\n",
    "    wrs_longitude_grid.text = metadata['wrsLongitudeGrid']\n",
    "    wrs_latitude_grid.text = metadata['wrsLatitudeGrid']\n",
    "    \n",
    "    coords = np.asarray([t[::-1] for t in list(loads(metadata['wkt']).exterior.coords)]).tolist()\n",
    " \n",
    "    pos_list = ''\n",
    "    for elem in coords:\n",
    "        pos_list += ' '.join(str(e) for e in elem) + ' '   \n",
    "\n",
    "    poslist.attrib['count'] = str(len(coords))\n",
    "    poslist.text = pos_list\n",
    "    \n",
    "    \n",
    "    identifier.text = metadata['identifier']\n",
    "\n",
    "    return etree.tostring(root, pretty_print=True)\n",
    "\n",
    "\n",
    "#\n",
    "# download (from T2 Catalog) and crop landsat 7 given bands\n",
    "#\n",
    "def get_bands_geotiff_ls7(download_url, band_indices, crop=False, bbox=None):\n",
    "    \n",
    "    \n",
    "    output = '/vsimem/clip.tif'\n",
    "    \n",
    "    parsed_url = urlparse(download_url)\n",
    "    url = '%s://%s/api%s' % (list(parsed_url)[0], list(parsed_url)[1], list(parsed_url)[2])\n",
    "    \n",
    "    gdal.UseExceptions()\n",
    "    gdal.SetConfigOption(\"GDAL_DISABLE_READDIR_ON_OPEN\",\"YES\")\n",
    "    gdal.SetConfigOption(\"CPL_VSIL_CURL_ALLOWED_EXTENSIONS\",\"tif\")\n",
    "    \n",
    "    try:\n",
    "        \n",
    "        print('GDAL is opening:')\n",
    "        print('/vsicurl/%s' % url)\n",
    "        \n",
    "        ds = gdal.Open('/vsicurl/%s' % url)\n",
    "        \n",
    "    except Exception as e:\n",
    "        print e\n",
    "        raise\n",
    "        \n",
    "    if crop == True:\n",
    "        print 'Cropping data...'\n",
    "        ulx, uly, lrx, lry = bbox[0], bbox[3], bbox[2], bbox[1]\n",
    "        ds = gdal.Translate(output, ds, bandList=band_indices, projWin = [ulx, uly, lrx, lry], projWinSRS = 'EPSG:4326')\n",
    "        print 'data cropping : DONE'\n",
    "        \n",
    "    else:    \n",
    "        ds = gdal.Translate(output, ds, bandList=band_indices)\n",
    "        \n",
    "    ds = None\n",
    "    ds = gdal.Open(output)\n",
    "    w = ds.GetRasterBand(1).XSize\n",
    "    h = ds.GetRasterBand(1).YSize\n",
    "    geo_transform = ds.GetGeoTransform()\n",
    "    projection = ds.GetProjection()\n",
    "\n",
    "    for i,b in enumerate(band_indices):\n",
    "        \n",
    "        out_name = '%s_SR_B%s.TIF' % (ls_catalogue_metadata['identifier'], str(b))\n",
    "        \n",
    "        #out_name = '/'.join([temp_folder, out_name])\n",
    "        out_name = os.path.join(temp_folder, out_name)\n",
    "        \n",
    "        print 'creating %s' %out_name\n",
    "        \n",
    "        data = ds.GetRasterBand(i+1).ReadAsArray(0, 0, w, h).astype(np.float32)\n",
    "        \n",
    "        bmin = data[data!=-9999].min()\n",
    "        bmax = data[data!=-9999].max()\n",
    "        #Let's map the data into [0.0, 1.0]\n",
    "        if bmin != bmax:\n",
    "            data[data!= -9999] = (data[data!=-9999] - bmin)/(bmax - bmin)\n",
    "        else:\n",
    "            data[data!=-9999] = 1.0\n",
    "        \n",
    "\n",
    "    \n",
    "        drv = gdal.GetDriverByName('GTiff')\n",
    "\n",
    "        ds2 = drv.Create(out_name, w, h, 1, gdal.GDT_Float32)\n",
    "\n",
    "        ds2.SetGeoTransform(geo_transform)\n",
    "        ds2.SetProjection(projection)\n",
    "\n",
    "        ds2.GetRasterBand(1).WriteArray(data, 0, 0)\n",
    "        ds2.FlushCache()\n",
    "\n",
    "    \n",
    "    ds = None\n",
    "    ds2=None\n",
    "    \n",
    "    return\n",
    "\n",
    "\n",
    "\n",
    "\n",
    "#\n",
    "# download (from T2 Catalog) and crop landsat 8 given bands\n",
    "#\n",
    "def get_bands_geotiff_ls8(download_url, band_indices, crop=False, bbox=None):\n",
    "    \n",
    "    # comeca aqui\n",
    "    #url = 'https://store.terradue.com/download/landsat8/files/v1/LC08_L1TP_204033_20190723_20190801_01_T1'\n",
    "\n",
    "    \n",
    "    \n",
    "    # get identifier\n",
    "    l8identifier = download_url.split('/')[-1]\n",
    "    \n",
    "    # get band names\n",
    "    band_names = []\n",
    "    \n",
    "    for i in band_indices:\n",
    "        \n",
    "        if isinstance(i, str):\n",
    "            band_names.append(l8identifier + '_B{0}.TIF'.format(i))\n",
    "        else:\n",
    "            band_names.append(l8identifier + '_B{0}.TIF'.format(i))\n",
    "        \n",
    "    \n",
    "    # download LS-8 Product\n",
    "    retrieved = ciop.copy(download_url, temp_folder)\n",
    "    \n",
    "    \n",
    "    \n",
    "    # get product file path\n",
    "    if temp_folder[-1] == '/':\n",
    "        file_path = glob.glob(temp_folder + '*.tar')\n",
    "    else:\n",
    "        file_path = glob.glob(temp_folder + '/*.tar')\n",
    "\n",
    "    file_path = file_path[0]\n",
    "    \n",
    "    print(file_path)\n",
    "    \n",
    "    \n",
    "    \n",
    "    # open each band image\n",
    "       \n",
    "    for bname in band_names:\n",
    "        \n",
    "        try:\n",
    "            print('GDAL is opening:')\n",
    "        \n",
    "            print('/vsitar/{0}/{1}'.format(file_path, bname))\n",
    "        \n",
    "            ds = gdal.Open('/vsitar/{0}/{1}'.format(file_path, bname))\n",
    "        \n",
    "            #ds3 = gdal.Open('/vsitar/%s/LC08_L1TP_204033_20190723_20190801_01_T1_B3.TIF' % file_path)\n",
    "        \n",
    "        except Exception as e:\n",
    "            print e\n",
    "            raise\n",
    "        \n",
    "    \n",
    "\n",
    "        # crop it\n",
    "    \n",
    "        output = temp_folder + '/clip.tif'\n",
    "    \n",
    "        if crop == True:\n",
    "            print 'Cropping data...'\n",
    "            ulx, uly, lrx, lry = bbox[0], bbox[3], bbox[2], bbox[1]\n",
    "            ds = gdal.Translate(output, ds, projWin = [ulx, uly, lrx, lry], projWinSRS = 'EPSG:4326')\n",
    "            print 'data cropping : DONE'\n",
    "        \n",
    "        else:\n",
    "            ds = gdal.Translate(output, ds)\n",
    "        \n",
    "    \n",
    "    \n",
    "        ds = None\n",
    "        ds = gdal.Open(output)\n",
    "        w = ds.GetRasterBand(1).XSize\n",
    "        h = ds.GetRasterBand(1).YSize\n",
    "        geo_transform = ds.GetGeoTransform()\n",
    "        projection = ds.GetProjection()\n",
    "    \n",
    "    \n",
    "        out_name = bname\n",
    "        \n",
    "        #out_name = '/'.join([temp_folder, out_name])\n",
    "        out_name = os.path.join(temp_folder, out_name)\n",
    "        \n",
    "        print 'creating %s' %out_name\n",
    "        \n",
    "        data = ds.GetRasterBand(1).ReadAsArray(0, 0, w, h).astype(np.float32)\n",
    "        \n",
    "        if '_BQA.TIF' in bname:\n",
    "            pass\n",
    "        else:\n",
    "            bmin = data[data!=-9999].min()\n",
    "            bmax = data[data!=-9999].max()\n",
    "            #Let's map the data into [0.0, 1.0]\n",
    "            if bmin != bmax:\n",
    "                data[data!= -9999] = (data[data!=-9999] - bmin)/(bmax - bmin)\n",
    "            else:\n",
    "                data[data!=-9999] = 1.0\n",
    "            \n",
    "\n",
    "    \n",
    "        drv = gdal.GetDriverByName('GTiff')\n",
    "\n",
    "        ds2 = drv.Create(out_name, w, h, 1, gdal.GDT_Float32)\n",
    "\n",
    "        ds2.SetGeoTransform(geo_transform)\n",
    "        ds2.SetProjection(projection)\n",
    "\n",
    "        ds2.GetRasterBand(1).WriteArray(data, 0, 0)\n",
    "        ds2.FlushCache()\n",
    "\n",
    "    \n",
    "        ds = None\n",
    "        ds2 = None\n",
    "\n",
    "\n",
    "\n",
    "#\n",
    "# Computes ndvi image\n",
    "# and saves it in geotif\n",
    "#\n",
    "def get_cloud_mask(band_qa):\n",
    "    \n",
    "    print('GENERATING MASK from: {0}'.format(band_qa))\n",
    "    \n",
    "    mat_band_qa = load_img_to_matrix(band_qa)\n",
    "    \n",
    "    cloud_mask = np.full_like(mat_band_qa, 0)\n",
    "    \n",
    "    # 1st row - clouds\n",
    "    # 2nd row - Cloud shadow - high\n",
    "    # codes from here: https://www.usgs.gov/media/images/landsat-8-quality-assessment-band-attributes-and-possible-values\n",
    "    # and from here: LSDS-1370_L4-7_SurfaceReflectance-LEDAPS_ProductGuide-v2.pdf\n",
    "    if 'LC08_' in band_qa:\n",
    "        pixel_values_to_mask = [2800, 2804, 2808, 2812, 6896, 6900, 6904, 6908,\n",
    "                                2976, 2980, 2984, 2988, 3008, 3012, 3016, 3020, 7072, 7076, 7080, 7084, 7104, 7108, 7112, 7116]\n",
    "    else:\n",
    "        pixel_values_to_mask = [96, 112, 160, 176, 224,\n",
    "                                72, 136]\n",
    "    \n",
    "    for pv in pixel_values_to_mask:\n",
    "        cloud_mask[mat_band_qa == pv] = -9999\n",
    "    \n",
    "    return cloud_mask\n",
    "        \n",
    "        \n",
    "\n",
    "def get_wkt(geotiff):\n",
    "\n",
    "    src = gdal.Open(geotiff)\n",
    "    \n",
    "    ulx, xres, xskew, uly, yskew, yres  = src.GetGeoTransform()\n",
    "\n",
    "    max_x = ulx + (src.RasterXSize * xres)\n",
    "    min_y = uly + (src.RasterYSize * yres)\n",
    "    min_x = ulx \n",
    "    max_y = uly\n",
    "    \n",
    "    source = osr.SpatialReference()\n",
    "    \n",
    "    source.ImportFromWkt(src.GetProjection())\n",
    "\n",
    "    target = osr.SpatialReference()\n",
    "    target.ImportFromEPSG(4326)\n",
    "\n",
    "    transform = osr.CoordinateTransformation(source, target)\n",
    "\n",
    "    a = transform.TransformPoint(min_x, min_y)\n",
    "    \n",
    "    wkt_out = box(transform.TransformPoint(min_x, min_y)[0],\n",
    "                    transform.TransformPoint(min_x, min_y)[1],\n",
    "                    transform.TransformPoint(max_x, max_y)[0],\n",
    "                    transform.TransformPoint(max_x, max_y)[1]).wkt\n",
    "    \n",
    "    \n",
    "    return wkt_out\n",
    "\n",
    "#\n",
    "# ndvi computation\n",
    "#\n",
    "# Input:\n",
    "# NIR - spectral reflectance measurement acquired in the red (visible) region\n",
    "# red - spectral reflectance measurement acquired in the near-infrared region\n",
    "# \n",
    "# Output:\n",
    "# ndvi -  normalized difference vegetation index\n",
    "#\n",
    "def get_ndvi (nir, red):\n",
    "    \n",
    "    ndvi = -9999\n",
    "    \n",
    "    if nir >= 0 and nir <= 1 and red >= 0 and red <= 1:\n",
    "        ndvi = ( nir - red ) / ( nir + red )\n",
    "    \n",
    "    return ndvi\n",
    "\n",
    "\n",
    "def load_img_to_matrix (img_path):\n",
    "    \n",
    "    dataset = gdal.Open(img_path)\n",
    "    product_array = dataset.GetRasterBand(1).ReadAsArray()\n",
    "    return product_array\n",
    "\n",
    "\n",
    "def get_metadata(filepath):\n",
    "    ds = gdal.Open(filepath)\n",
    "    projection = ds.GetProjection()\n",
    "    geotransform = ds.GetGeoTransform()\n",
    "    no_data_value = ds.GetRasterBand(1).GetNoDataValue()\n",
    "    data_type = ds.GetRasterBand(1).DataType\n",
    "    return projection, geotransform, no_data_value, data_type\n",
    "\n",
    "\n",
    "\n",
    "def write_output_image(filepath, output_matrix, image_format, data_format, mask=None, output_projection=None, output_geotransform=None, no_data_value=None):\n",
    "    \n",
    "    driver = gdal.GetDriverByName(image_format)\n",
    "    out_rows = np.size(output_matrix, 0)\n",
    "    out_columns = np.size(output_matrix, 1)\n",
    "    \n",
    "    \n",
    "    if mask is not None and mask is not 0:\n",
    "        # TODO: check if output folder exists\n",
    "        output = driver.Create(filepath, out_columns, out_rows, 2, data_format)\n",
    "        mask_band = output.GetRasterBand(2)\n",
    "        mask_band.WriteArray(mask)\n",
    "        if no_data_value is not None:\n",
    "            output_matrix[mask > 0] = no_data_value\n",
    "    else:\n",
    "        output = driver.Create(filepath, out_columns, out_rows, 1, data_format)\n",
    "    \n",
    "    if output_projection is not None:\n",
    "        output.SetProjection(output_projection)\n",
    "    if output_geotransform is not None:\n",
    "        output.SetGeoTransform(output_geotransform)\n",
    "    \n",
    "    raster_band = output.GetRasterBand(1)\n",
    "    if no_data_value is not None:\n",
    "        raster_band.SetNoDataValue(no_data_value)\n",
    "    raster_band.WriteArray(output_matrix)\n",
    "    \n",
    "    gdal.Warp(filepath, output, format=\"GTiff\", outputBoundsSRS='EPSG:4326', xRes=output_geotransform[1], yRes=-output_geotransform[5], targetAlignedPixels=True)\n",
    "    \n",
    "\n",
    "\n",
    "#\n",
    "# Computes ndvi image\n",
    "# and saves it in geotif\n",
    "#\n",
    "def normalized_difference(band_1, band_2, metadata, output_name, mask_clouds = False, band_3 = None):\n",
    "\n",
    "    metadata_name = '{0}.xml'.format(output_name)\n",
    "    \n",
    "    #otb_app = otbApplication.Registry.CreateApplication('BandMath')\n",
    "    \n",
    "    #otb_app.SetParameterStringList('il', [band_1, band_2])\n",
    "\n",
    "    #otb_app.SetParameterString('out', '{0}.TIF'.format(output_name))\n",
    "    \n",
    "    #otb_app.SetParameterString('exp', 'im1b1 >= 0 && im1b1 <= 1 && im2b1 >= 0 && im2b1 <= 1 ? ( im1b1 - im2b1 ) / ( im1b1 + im2b1 ) : -9999 ')\n",
    "\n",
    "    #otb_app.ExecuteAndWriteOutput()\n",
    "    \n",
    "    \n",
    "    mat_band_1 = load_img_to_matrix(band_1)\n",
    "    mat_band_2 = load_img_to_matrix(band_2)\n",
    "    \n",
    "    \n",
    "    ndvi_calculator = np.vectorize(get_ndvi)\n",
    "    \n",
    "    mat_ndvi = ndvi_calculator(mat_band_1, mat_band_2)\n",
    "    \n",
    "    if mask_clouds: # mask clouds and cloud shadows\n",
    "        \n",
    "        cloud_mask = get_cloud_mask(band_3)\n",
    "        \n",
    "        mat_ndvi[cloud_mask == -9999] = -9999\n",
    "        \n",
    "    \n",
    "    projection, geotransform, no_data_value, data_type = get_metadata(band_1)\n",
    "    \n",
    "    no_data_value = -9999\n",
    "\n",
    "    write_output_image(output_name + '.TIF', mat_ndvi, 'GTiff', data_type, None, projection, geotransform, no_data_value)\n",
    "    \n",
    "    \n",
    "    #Set the actual wkt for NDVI \n",
    "    metadata['wkt'] = get_wkt('{0}.TIF'.format(output_name))\n",
    "    \n",
    "    metadata['identifier'] = output_name\n",
    "    \n",
    "    return True\n",
    "\n",
    "\n"
   ]
  },
  {
   "cell_type": "markdown",
   "metadata": {},
   "source": [
    "### Define the AOI"
   ]
  },
  {
   "cell_type": "code",
   "execution_count": 258,
   "metadata": {},
   "outputs": [
    {
     "data": {
      "text/plain": [
       "'POLYGON ((-8.864205 38.88616500000001, -8.864205 38.986165, -8.964205000000002 38.986165, -8.964205000000002 38.88616500000001, -8.864205 38.88616500000001))'"
      ]
     },
     "execution_count": 258,
     "metadata": {},
     "output_type": "execute_result"
    }
   ],
   "source": [
    "aoi_wkt = loads(regionOfInterest['value'])\n",
    "aoi_wkt.wkt"
   ]
  },
  {
   "cell_type": "code",
   "execution_count": 259,
   "metadata": {},
   "outputs": [
    {
     "data": {
      "text/plain": [
       "[-8.964205000000002, 38.88616500000001, -8.864205, 38.986165]"
      ]
     },
     "execution_count": 259,
     "metadata": {},
     "output_type": "execute_result"
    }
   ],
   "source": [
    "bbox = list(aoi_wkt.bounds)\n",
    "bbox"
   ]
  },
  {
   "cell_type": "markdown",
   "metadata": {},
   "source": [
    "#### Get the metadata of the Landsat product"
   ]
  },
  {
   "cell_type": "code",
   "execution_count": 260,
   "metadata": {
    "collapsed": true
   },
   "outputs": [],
   "source": [
    "#ciop = cioppy.Cioppy()\n",
    "\n",
    "temp_results = []\n",
    "\n",
    "search_params = dict()\n",
    "\n",
    "search_params['do'] = 'terradue'\n",
    "\n",
    "ls_catalogue_metadata = ciop.search(end_point=input_reference,\n",
    "                                     params=[],\n",
    "                                     output_fields='enclosure,identifier,startdate,enddate,wkt,orbitNumber,swathIdentifier,wrsLongitudeGrid,wrsLatitudeGrid',\n",
    "                                     model='EOP')[0]\n"
   ]
  },
  {
   "cell_type": "code",
   "execution_count": 261,
   "metadata": {},
   "outputs": [
    {
     "data": {
      "text/plain": [
       "{'enclosure': 'https://store.terradue.com/download/landsat8/files/v1/LC08_L1TP_204033_20190504_20190520_01_T1',\n",
       " 'enddate': '2019-05-04T11:14:13.8730000Z',\n",
       " 'identifier': 'LC08_L1TP_204033_20190504_20190520_01_T1',\n",
       " 'orbitNumber': '',\n",
       " 'startdate': '2019-05-04T11:13:42.1030000Z',\n",
       " 'swathIdentifier': '',\n",
       " 'wkt': 'POLYGON((-10.19437 38.23942,-8.08013 37.83638,-7.52414 39.55291,-9.68982 39.95768,-10.19437 38.23942))',\n",
       " 'wrsLatitudeGrid': '33',\n",
       " 'wrsLongitudeGrid': '204'}"
      ]
     },
     "execution_count": 261,
     "metadata": {},
     "output_type": "execute_result"
    }
   ],
   "source": [
    "ls_catalogue_metadata"
   ]
  },
  {
   "cell_type": "markdown",
   "metadata": {},
   "source": [
    "#### check if it is landsat 7 or 8 "
   ]
  },
  {
   "cell_type": "code",
   "execution_count": 262,
   "metadata": {},
   "outputs": [
    {
     "name": "stdout",
     "output_type": "stream",
     "text": [
      "Landsat 8\n"
     ]
    }
   ],
   "source": [
    "# 'LE07' - Landsat 7\n",
    "# 'LC08' - Landsat 8\n",
    "lscode = ls_catalogue_metadata['identifier'][0:4]\n",
    "\n",
    "if lscode == 'LC08':\n",
    "    print('Landsat 8')\n",
    "else:\n",
    "    print('Landsat 7')"
   ]
  },
  {
   "cell_type": "markdown",
   "metadata": {},
   "source": [
    "#### get url to download product"
   ]
  },
  {
   "cell_type": "code",
   "execution_count": 263,
   "metadata": {
    "collapsed": false
   },
   "outputs": [
    {
     "name": "stdout",
     "output_type": "stream",
     "text": [
      "https://store.terradue.com/download/landsat8/files/v1/LC08_L1TP_204033_20190504_20190520_01_T1\n"
     ]
    }
   ],
   "source": [
    "ls_down_url = ls_catalogue_metadata['enclosure']\n",
    "\n",
    "print ls_down_url"
   ]
  },
  {
   "cell_type": "markdown",
   "metadata": {},
   "source": [
    "#### download and crop nir and red bands from LS product"
   ]
  },
  {
   "cell_type": "code",
   "execution_count": 264,
   "metadata": {},
   "outputs": [
    {
     "name": "stdout",
     "output_type": "stream",
     "text": [
      "temp/LC08_L1TP_204033_20190504_20190520_01_T1_B5.TIF\n",
      "temp/LC08_L1TP_204033_20190504_20190520_01_T1_B4.TIF\n",
      "temp/LC08_L1TP_204033_20190504_20190520_01_T1_BQA.TIF\n"
     ]
    },
    {
     "name": "stderr",
     "output_type": "stream",
     "text": [
      "reporter:status:2019-09-06T18:48:21.440761 [INFO   ] [user process] Getting and cropping Landsat bands\n",
      "2019-09-06T18:48:21.440761 [INFO   ] [user process] Getting and cropping Landsat bands\n"
     ]
    },
    {
     "name": "stdout",
     "output_type": "stream",
     "text": [
      "temp/LC82040332019124LGN00.tar\n",
      "GDAL is opening:\n",
      "/vsitar/temp/LC82040332019124LGN00.tar/LC08_L1TP_204033_20190504_20190520_01_T1_B4.TIF\n",
      "`/vsitar/temp/LC82040332019124LGN00.tar/LC08_L1TP_204033_20190504_20190520_01_T1_B4.TIF' does not exist in the file system, and is not recognized as a supported dataset name.\n"
     ]
    },
    {
     "ename": "RuntimeError",
     "evalue": "`/vsitar/temp/LC82040332019124LGN00.tar/LC08_L1TP_204033_20190504_20190520_01_T1_B4.TIF' does not exist in the file system, and is not recognized as a supported dataset name.",
     "output_type": "error",
     "traceback": [
      "\u001b[0;31m\u001b[0m",
      "\u001b[0;31mRuntimeError\u001b[0mTraceback (most recent call last)",
      "\u001b[0;32m<ipython-input-264-59afdd27747f>\u001b[0m in \u001b[0;36m<module>\u001b[0;34m()\u001b[0m\n\u001b[1;32m     38\u001b[0m \u001b[0;34m\u001b[0m\u001b[0m\n\u001b[1;32m     39\u001b[0m \u001b[0;32mif\u001b[0m \u001b[0mlscode\u001b[0m \u001b[0;34m==\u001b[0m \u001b[0;34m'LC08'\u001b[0m\u001b[0;34m:\u001b[0m\u001b[0;34m\u001b[0m\u001b[0m\n\u001b[0;32m---> 40\u001b[0;31m     \u001b[0mget_bands_geotiff_ls8\u001b[0m\u001b[0;34m(\u001b[0m\u001b[0mls_down_url\u001b[0m\u001b[0;34m,\u001b[0m \u001b[0;34m[\u001b[0m\u001b[0mband_2\u001b[0m\u001b[0;34m,\u001b[0m\u001b[0mband_1\u001b[0m\u001b[0;34m,\u001b[0m\u001b[0mband_3\u001b[0m\u001b[0;34m]\u001b[0m\u001b[0;34m,\u001b[0m \u001b[0mcrop\u001b[0m\u001b[0;34m=\u001b[0m\u001b[0mTrue\u001b[0m\u001b[0;34m,\u001b[0m \u001b[0mbbox\u001b[0m\u001b[0;34m=\u001b[0m\u001b[0mbbox\u001b[0m\u001b[0;34m)\u001b[0m\u001b[0;34m\u001b[0m\u001b[0m\n\u001b[0m\u001b[1;32m     41\u001b[0m \u001b[0;32melse\u001b[0m\u001b[0;34m:\u001b[0m\u001b[0;34m\u001b[0m\u001b[0m\n\u001b[1;32m     42\u001b[0m     \u001b[0mget_bands_geotiff_ls7\u001b[0m\u001b[0;34m(\u001b[0m\u001b[0mls_down_url\u001b[0m\u001b[0;34m,\u001b[0m \u001b[0;34m[\u001b[0m\u001b[0mband_2\u001b[0m\u001b[0;34m,\u001b[0m\u001b[0mband_1\u001b[0m\u001b[0;34m,\u001b[0m\u001b[0mband_3\u001b[0m\u001b[0;34m]\u001b[0m\u001b[0;34m,\u001b[0m \u001b[0mcrop\u001b[0m\u001b[0;34m=\u001b[0m\u001b[0mTrue\u001b[0m\u001b[0;34m,\u001b[0m \u001b[0mbbox\u001b[0m\u001b[0;34m=\u001b[0m\u001b[0mbbox\u001b[0m\u001b[0;34m)\u001b[0m\u001b[0;34m\u001b[0m\u001b[0m\n",
      "\u001b[0;32m<ipython-input-257-d1f8620108d0>\u001b[0m in \u001b[0;36mget_bands_geotiff_ls8\u001b[0;34m(download_url, band_indices, crop, bbox)\u001b[0m\n\u001b[1;32m    217\u001b[0m             \u001b[0;32mprint\u001b[0m\u001b[0;34m(\u001b[0m\u001b[0;34m'/vsitar/{0}/{1}'\u001b[0m\u001b[0;34m.\u001b[0m\u001b[0mformat\u001b[0m\u001b[0;34m(\u001b[0m\u001b[0mfile_path\u001b[0m\u001b[0;34m,\u001b[0m \u001b[0mbname\u001b[0m\u001b[0;34m)\u001b[0m\u001b[0;34m)\u001b[0m\u001b[0;34m\u001b[0m\u001b[0m\n\u001b[1;32m    218\u001b[0m \u001b[0;34m\u001b[0m\u001b[0m\n\u001b[0;32m--> 219\u001b[0;31m             \u001b[0mds\u001b[0m \u001b[0;34m=\u001b[0m \u001b[0mgdal\u001b[0m\u001b[0;34m.\u001b[0m\u001b[0mOpen\u001b[0m\u001b[0;34m(\u001b[0m\u001b[0;34m'/vsitar/{0}/{1}'\u001b[0m\u001b[0;34m.\u001b[0m\u001b[0mformat\u001b[0m\u001b[0;34m(\u001b[0m\u001b[0mfile_path\u001b[0m\u001b[0;34m,\u001b[0m \u001b[0mbname\u001b[0m\u001b[0;34m)\u001b[0m\u001b[0;34m)\u001b[0m\u001b[0;34m\u001b[0m\u001b[0m\n\u001b[0m\u001b[1;32m    220\u001b[0m \u001b[0;34m\u001b[0m\u001b[0m\n\u001b[1;32m    221\u001b[0m             \u001b[0;31m#ds3 = gdal.Open('/vsitar/%s/LC08_L1TP_204033_20190723_20190801_01_T1_B3.TIF' % file_path)\u001b[0m\u001b[0;34m\u001b[0m\u001b[0;34m\u001b[0m\u001b[0m\n",
      "\u001b[0;32m/home/vacc/.conda/envs/vacc-env2/lib/python2.7/site-packages/osgeo/gdal.pyc\u001b[0m in \u001b[0;36mOpen\u001b[0;34m(*args)\u001b[0m\n\u001b[1;32m   3249\u001b[0m \u001b[0;32mdef\u001b[0m \u001b[0mOpen\u001b[0m\u001b[0;34m(\u001b[0m\u001b[0;34m*\u001b[0m\u001b[0margs\u001b[0m\u001b[0;34m)\u001b[0m\u001b[0;34m:\u001b[0m\u001b[0;34m\u001b[0m\u001b[0m\n\u001b[1;32m   3250\u001b[0m     \u001b[0;34m\"\"\"Open(char const * utf8_path, GDALAccess eAccess) -> Dataset\"\"\"\u001b[0m\u001b[0;34m\u001b[0m\u001b[0m\n\u001b[0;32m-> 3251\u001b[0;31m     \u001b[0;32mreturn\u001b[0m \u001b[0m_gdal\u001b[0m\u001b[0;34m.\u001b[0m\u001b[0mOpen\u001b[0m\u001b[0;34m(\u001b[0m\u001b[0;34m*\u001b[0m\u001b[0margs\u001b[0m\u001b[0;34m)\u001b[0m\u001b[0;34m\u001b[0m\u001b[0m\n\u001b[0m\u001b[1;32m   3252\u001b[0m \u001b[0;34m\u001b[0m\u001b[0m\n\u001b[1;32m   3253\u001b[0m \u001b[0;32mdef\u001b[0m \u001b[0mOpenEx\u001b[0m\u001b[0;34m(\u001b[0m\u001b[0;34m*\u001b[0m\u001b[0margs\u001b[0m\u001b[0;34m,\u001b[0m \u001b[0;34m**\u001b[0m\u001b[0mkwargs\u001b[0m\u001b[0;34m)\u001b[0m\u001b[0;34m:\u001b[0m\u001b[0;34m\u001b[0m\u001b[0m\n",
      "\u001b[0;31mRuntimeError\u001b[0m: `/vsitar/temp/LC82040332019124LGN00.tar/LC08_L1TP_204033_20190504_20190520_01_T1_B4.TIF' does not exist in the file system, and is not recognized as a supported dataset name."
     ]
    }
   ],
   "source": [
    "band_1 = 4\n",
    "band_2 = 3\n",
    "band_3 = 8\n",
    "\n",
    "if lscode == 'LC08':\n",
    "    band_1 = 5\n",
    "    band_2 = 4\n",
    "    band_3 = 'QA'\n",
    "\n",
    "band_1_name = '%s_SR_B%s.TIF' % (ls_catalogue_metadata['identifier'], str(band_1))\n",
    "band_2_name = '%s_SR_B%s.TIF' % (ls_catalogue_metadata['identifier'], str(band_2))\n",
    "band_3_name = '%s_SR_B%s.TIF' % (ls_catalogue_metadata['identifier'], str(band_3))\n",
    "\n",
    "# landsat 8\n",
    "if lscode == 'LC08':\n",
    "    band_1_name = ls_catalogue_metadata['identifier'] + '_B{0}.TIF'.format(band_1)\n",
    "    band_2_name = ls_catalogue_metadata['identifier'] + '_B{0}.TIF'.format(band_2)\n",
    "    band_3_name = ls_catalogue_metadata['identifier'] + '_B{0}.TIF'.format(band_3)\n",
    "\n",
    "\n",
    "\n",
    "#band_1_name = '/'.join([temp_folder, band_1_name])\n",
    "#band_2_name = '/'.join([temp_folder, band_2_name])\n",
    "\n",
    "band_1_name = os.path.join(temp_folder, band_1_name)\n",
    "band_2_name = os.path.join(temp_folder, band_2_name)\n",
    "band_3_name = os.path.join(temp_folder, band_3_name) # QA band\n",
    "\n",
    "\n",
    "print(band_1_name)\n",
    "print(band_2_name)\n",
    "print(band_3_name)\n",
    "\n",
    "\n",
    "ciop.log(\"INFO\", \"Getting and cropping Landsat bands\")\n",
    "\n",
    "\n",
    "\n",
    "if lscode == 'LC08':\n",
    "    get_bands_geotiff_ls8(ls_down_url, [band_2,band_1,band_3], crop=True, bbox=bbox)\n",
    "else:\n",
    "    get_bands_geotiff_ls7(ls_down_url, [band_2,band_1,band_3], crop=True, bbox=bbox)\n",
    "    "
   ]
  },
  {
   "cell_type": "markdown",
   "metadata": {},
   "source": [
    "#### Compute NDVI"
   ]
  },
  {
   "cell_type": "code",
   "execution_count": null,
   "metadata": {},
   "outputs": [],
   "source": [
    "output_name = '{0}_SR_{1}'.format(ls_catalogue_metadata['identifier'],'NDVI')\n",
    "\n",
    "print(ls_catalogue_metadata['identifier'])\n",
    "\n",
    "ciop.log(\"INFO\", \"Computing NDVI\")\n",
    "\n",
    "normalized_difference(band_1_name,\n",
    "                      band_2_name,\n",
    "                      ls_catalogue_metadata,\n",
    "                      output_name,\n",
    "                      mask_clouds = True,\n",
    "                      band_3 = band_3_name)\n",
    "\n",
    "new_identifier = ls_catalogue_metadata['identifier']\n",
    "metadata_name = '{0}.xml'.format(new_identifier)\n",
    "\n",
    "with open(metadata_name, 'wb') as file:\n",
    "    file.write('<?xml version=\"1.0\" encoding=\"UTF-8\"?>\\n')\n",
    "    file.write(eop_metadata(ls_catalogue_metadata))\n"
   ]
  },
  {
   "cell_type": "code",
   "execution_count": null,
   "metadata": {},
   "outputs": [],
   "source": [
    "output_name"
   ]
  },
  {
   "cell_type": "markdown",
   "metadata": {},
   "source": [
    "Create mask"
   ]
  },
  {
   "cell_type": "code",
   "execution_count": null,
   "metadata": {},
   "outputs": [],
   "source": []
  },
  {
   "cell_type": "markdown",
   "metadata": {},
   "source": [
    "## Check results"
   ]
  },
  {
   "cell_type": "code",
   "execution_count": null,
   "metadata": {
    "collapsed": true
   },
   "outputs": [],
   "source": [
    "if check_results:\n",
    "    import matplotlib\n",
    "    import matplotlib.pyplot as plt\n",
    "    from PIL import Image\n",
    "    %matplotlib inline\n"
   ]
  },
  {
   "cell_type": "code",
   "execution_count": null,
   "metadata": {},
   "outputs": [],
   "source": [
    "if check_results:\n",
    "    \n",
    "    ds = gdal.Open(band_1_name)\n",
    "    band4 = ds.GetRasterBand(1).ReadAsArray()\n",
    "    ds=None\n",
    "\n",
    "    ds = gdal.Open(band_2_name)\n",
    "    band3 = ds.GetRasterBand(1).ReadAsArray()\n",
    "    ds=None\n",
    "\n",
    "    ds = gdal.Open('{0}.TIF'.format(output_name))\n",
    "    ndvi = ds.GetRasterBand(1).ReadAsArray()\n",
    "    ds=None\n",
    "\n",
    "    for b in [band3, band4, ndvi]:\n",
    "\n",
    "        bmin = b[b!=-9999].min()\n",
    "        bmax =  b[b!=-9999].max()\n",
    "        \n",
    "        if bmin != bmax:    \n",
    "            b[b!=-9999] = (b[b!=-9999] - bmin)/(bmax - bmin) * 255\n",
    "  \n",
    "        b[b==-9999]=np.nan\n",
    "\n",
    "    fig = plt.figure(figsize=(20,20))\n",
    "\n",
    "    a = fig.add_subplot(1,3,1)\n",
    "    imgplot = plt.imshow(band3.astype(np.uint8),cmap='gray')\n",
    "    a.set_title('LS7 Band 3')\n",
    "    if lscode == 'LC08':\n",
    "        a.set_title('LS8 Band 4')\n",
    "    \n",
    "\n",
    "    a = fig.add_subplot(1,3,2)\n",
    "    imgplot = plt.imshow(band4.astype(np.uint8),cmap='gray')\n",
    "    a.set_title('LS7 Band 4')\n",
    "    if lscode == 'LC08':\n",
    "        a.set_title('LS8 Band 5')\n",
    "        \n",
    "\n",
    "    a = fig.add_subplot(1,3,3)\n",
    "    imgplot = plt.imshow(ndvi.astype(np.uint8),cmap='jet')\n",
    "    a.set_title('NDVI')\n",
    "\n",
    "    plt.tight_layout()\n",
    "    fig = plt.gcf()\n",
    "    plt.show()\n",
    "\n",
    "    fig.clf()\n",
    "    plt.close()\n"
   ]
  },
  {
   "cell_type": "markdown",
   "metadata": {},
   "source": [
    "### Remove temporay files and folders"
   ]
  },
  {
   "cell_type": "code",
   "execution_count": 205,
   "metadata": {},
   "outputs": [
    {
     "name": "stderr",
     "output_type": "stream",
     "text": [
      "reporter:status:2019-09-06T18:23:03.189310 [INFO   ] [user process] Removing aux data\n",
      "2019-09-06T18:23:03.189310 [INFO   ] [user process] Removing aux data\n"
     ]
    }
   ],
   "source": [
    "ciop.log(\"INFO\", \"Removing aux data\")\n",
    "\n",
    "rm_cfolder(temp_folder)\n",
    "\n",
    "os.rmdir(temp_folder)"
   ]
  },
  {
   "cell_type": "code",
   "execution_count": null,
   "metadata": {},
   "outputs": [],
   "source": []
  },
  {
   "cell_type": "code",
   "execution_count": null,
   "metadata": {},
   "outputs": [],
   "source": []
  }
 ],
 "metadata": {
  "kernelspec": {
   "display_name": "vacc-env2",
   "language": "python",
   "name": "vacc-env2"
  },
  "language_info": {
   "codemirror_mode": {
    "name": "ipython",
    "version": 2
   },
   "file_extension": ".py",
   "mimetype": "text/x-python",
   "name": "python",
   "nbconvert_exporter": "python",
   "pygments_lexer": "ipython2",
   "version": "2.7.15"
  }
 },
 "nbformat": 4,
 "nbformat_minor": 2
}
